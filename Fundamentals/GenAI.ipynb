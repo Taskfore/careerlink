{
  "nbformat": 4,
  "nbformat_minor": 0,
  "metadata": {
    "colab": {
      "provenance": []
    },
    "kernelspec": {
      "name": "python3",
      "display_name": "Python 3"
    },
    "language_info": {
      "name": "python"
    }
  },
  "cells": [
    {
      "cell_type": "markdown",
      "source": [
        "**GenAI**\n",
        "\n",
        "Generative AI (GenAI) is a sort of Artificial Intelligence that can generate a wide range of data, including photos, videos, audio, text, and three-dimensional models. It accomplishes this by learning patterns from current data and then applying that information to produce new and distinct results."
      ],
      "metadata": {
        "id": "5EeoHJjQKsL9"
      }
    },
    {
      "cell_type": "code",
      "execution_count": null,
      "metadata": {
        "id": "Y5y8UiX3DhVA"
      },
      "outputs": [],
      "source": [
        "# Get openai key from colab secrects\n",
        "from google.colab import userdata\n",
        "open_ai_key = userdata.get('OPEN_AI_KEY')"
      ]
    },
    {
      "cell_type": "code",
      "execution_count": null,
      "metadata": {
        "colab": {
          "base_uri": "https://localhost:8080/"
        },
        "id": "hhY-C3cYHVJC",
        "outputId": "d2eb919d-3bf6-4209-cf82-6e0dc610c2f2"
      },
      "outputs": [
        {
          "output_type": "stream",
          "name": "stdout",
          "text": [
            "[Your Name]\n",
            "[Contact Information: Phone Number, Email Address, LinkedIn Profile]\n",
            "\n",
            "Career Summary:\n",
            "Highly passionate technology leader with over 20 years of extensive experience in developing software products and services. Demonstrated strong business acumen and expertise in combining technology with customer-centric strategies. Proven track record in delivering innovative solutions that drive impactful results. Deeply committed to continuous learning and personal growth. Specialized in designing highly scalable software products and services, incorporating complex datasets and applying machine learning algorithms to drive actionable insights.\n",
            "\n",
            "Professional Experience:\n",
            "\n",
            "[Company Name], [City, State]\n",
            "[Position Title]\n",
            "[Dates of Employment]\n",
            "\n",
            "- Spearheaded the development and delivery of cutting-edge software products and services, ensuring alignment with strategic business objectives.\n",
            "- Leveraged business and technology skills to identify and prioritize customer needs, resulting in improved client satisfaction and increased revenue.\n",
            "- Led a cross-functional team of software engineers and data scientists, fostering a collaborative environment and promoting creativity and innovation.\n",
            "- Successfully applied machine learning algorithms on complex datasets to extract meaningful information and provide strategic insights for decision-making.\n",
            "- Collaborated with key stakeholders, including product managers, sales teams, and customers, to understand market trends and align product roadmap accordingly.\n",
            "- Managed full product lifecycle, from ideation and requirements gathering to development, testing, and deployment.\n",
            "\n",
            "[Company Name], [City, State]\n",
            "[Position Title]\n",
            "[Dates of Employment]\n",
            "\n",
            "- Developed and delivered software solutions, focusing on usability, scalability, and security.\n",
            "- Worked closely with clients to understand their business requirements and translate them into technical specifications.\n",
            "- Led the planning and execution of software development projects, ensuring timely delivery and adherence to quality standards.\n",
            "- Played a key role in architectural design and implementation of highly scalable software products.\n",
            "- Conducted regular code reviews and provided technical guidance and mentorship to the development team.\n",
            "- Stayed updated with the latest industry trends and emerging technologies, identifying opportunities for innovation and continuous improvement.\n",
            "\n",
            "Education:\n",
            "[Bachelor's/Master's Degree], [Field of Study]\n",
            "[University Name], [City, State]\n",
            "[Year of Graduation]\n",
            "\n",
            "Skills:\n",
            "- Strong technical background in software development, with expertise in designing scalable products and services.\n",
            "- Proficient in applying machine learning algorithms to complex datasets.\n",
            "- Business-minded approach, combining technology with strategic decision-making.\n",
            "- Excellent leadership skills, with proven ability to lead and inspire cross-functional teams.\n",
            "- Strong analytical and problem-solving capabilities.\n",
            "- Exceptional verbal and written communication skills.\n",
            "- Continuous learner, staying updated with emerging technologies and industry trends.\n",
            "\n",
            "References: Available upon request\n",
            "\n",
            "Note: Tailor your resume to suit your specific experience and always highlight achievements and contributions that directly relate to the desired role or industry.\n"
          ]
        }
      ],
      "source": [
        "# call openai api to generate resume from bio\n",
        "\n",
        "from openai import OpenAI\n",
        "client = OpenAI(api_key=open_ai_key)\n",
        "\n",
        "completion = client.chat.completions.create(\n",
        "  model=\"gpt-3.5-turbo\",\n",
        "  messages=[\n",
        "    {\"role\": \"system\", \"content\": \"You are a career assistant, skilled in creating resume with bio.\"},\n",
        "    {\"role\": \"user\", \"content\": \"I am a highly passionate technology leader with 20+ years of experience in developing software products and services. I have a strong business and technology skills and a customer-first mindset. I am constantly learning and open to reinventing myself. My core area of interest is designing highly scalable software products and services that provide information to drive decisioning by applying machine learning algorithms on complex datasets.\"}\n",
        "  ]\n",
        ")\n",
        "\n",
        "print(completion.choices[0].message.content)\n"
      ]
    }
  ]
}